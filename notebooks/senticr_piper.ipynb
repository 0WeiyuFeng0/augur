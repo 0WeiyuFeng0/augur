{
 "cells": [
  {
   "cell_type": "code",
   "execution_count": 18,
   "metadata": {
    "scrolled": true
   },
   "outputs": [
    {
     "name": "stdout",
     "output_type": "stream",
     "text": [
      "[nltk_data] Downloading package punkt to /Users/gogginsS/nltk_data...\n",
      "[nltk_data]   Package punkt is already up-to-date!\n",
      "[nltk_data] Downloading package averaged_perceptron_tagger to\n",
      "[nltk_data]     /Users/gogginsS/nltk_data...\n",
      "[nltk_data]   Package averaged_perceptron_tagger is already up-to-\n",
      "[nltk_data]       date!\n",
      "[nltk_data] Downloading package universal_tagset to\n",
      "[nltk_data]     /Users/gogginsS/nltk_data...\n",
      "[nltk_data]   Unzipping taggers/universal_tagset.zip.\n"
     ]
    },
    {
     "data": {
      "text/plain": [
       "True"
      ]
     },
     "execution_count": 18,
     "metadata": {},
     "output_type": "execute_result"
    }
   ],
   "source": [
    "import os,json\n",
    "import sys\n",
    "import augur\n",
    "import sqlalchemy as s\n",
    "import numpy as np\n",
    "import pandas as pd\n",
    "from scipy import stats\n",
    "import matplotlib.pyplot as plot\n",
    "import matplotlib.dates as mdates\n",
    "import nltk\n",
    "nltk.download('punkt')\n",
    "nltk.download('averaged_perceptron_tagger')\n",
    "nltk.download('universal_tagset')\n",
    "#!{sys.executable} -m pip install sklearn\n",
    "#!{sys.executable} -m pip install xlrd\n",
    "#!{sys.executable} -m pip install imblearn\n"
   ]
  },
  {
   "cell_type": "code",
   "execution_count": 19,
   "metadata": {},
   "outputs": [
    {
     "name": "stdout",
     "output_type": "stream",
     "text": [
      "Reading data from oracle..\n",
      "Training classifier model..\n"
     ]
    },
    {
     "name": "stderr",
     "output_type": "stream",
     "text": [
      "/Users/gogginsS/anaconda3/envs/augur/lib/python3.6/site-packages/sklearn/utils/deprecation.py:77: DeprecationWarning: Function _ratio_float is deprecated; Use a float for 'ratio' is deprecated from version 0.2. The support will be removed in 0.4. Use a dict, str, or a callable instead.\n",
      "  warnings.warn(msg, category=DeprecationWarning)\n"
     ]
    }
   ],
   "source": [
    "if(\"notebooks\" in os.getcwd()):\n",
    "    os.chdir(\"../SentiCR\")\n",
    "    from SentiCR.SentiCR import SentiCR\n",
    "\n",
    "sentiment_analyzer = SentiCR()\n",
    "if(\"notebooks\" not in os.getcwd()):\n",
    "    os.chdir(\"../../notebooks\")\n",
    "\n",
    "augurApp = augur.Application('../augur.config.json')\n",
    "\n",
    "connect = augurApp.ghtorrentplus()"
   ]
  },
  {
   "cell_type": "code",
   "execution_count": 20,
   "metadata": {},
   "outputs": [
    {
     "name": "stdout",
     "output_type": "stream",
     "text": [
      "['github_issues', 'github_issues_2', 'github_issues_repo_jobs', 'github_issues_sentiment_scores', 'github_issues_sentiment_scores_senticr', 'github_pull_request_repo_jobs', 'github_pull_requests', 'github_pull_requests_2', 'github_pull_requests_sentiment_scores', 'github_pull_requests_sentiment_scores_2', 'github_pull_requests_sentiment_scores_senticr', 'issue_response_time', 'issue_response_time2', 'issue_response_time_3', 'mail_lists', 'mail_lists_sentiment_scores', 'mail_lists_sentiment_scores_senticr', 'mailing_list_jobs']\n",
      "    project\n",
      "0  announce\n",
      "1  announce\n"
     ]
    }
   ],
   "source": [
    "table_names = s.inspect(connect.db).get_table_names()\n",
    "print(table_names)\n",
    "\n",
    "if(\"mailing_list_jobs\" in table_names):\n",
    "    lists_createdSQL = s.sql.text(\"\"\"SELECT project FROM mailing_list_jobs\"\"\")\n",
    "    df1 = pd.read_sql(lists_createdSQL, connect.db)\n",
    "    print(df1)\n",
    "    val = True"
   ]
  },
  {
   "cell_type": "code",
   "execution_count": 21,
   "metadata": {},
   "outputs": [
    {
     "name": "stdout",
     "output_type": "stream",
     "text": [
      "announce Mailing List\n",
      "Here!!!!\n",
      "\n",
      "\n",
      "\n",
      "announce Mailing List\n",
      "Here!!!!\n",
      "\n",
      "\n",
      "\n"
     ]
    }
   ],
   "source": [
    "col = 'score','sentiment'\n",
    "columns1 = 'augurmsgID', 'backend_name','project','mailing_list','category',\\\n",
    "           'message_part','message_parts_tot', 'subject','date',\\\n",
    "           'message_from','message_id','message_text'\n",
    "df3 = pd.DataFrame(columns = col)\n",
    "df_list = pd.DataFrame(columns = columns1)\n",
    "for i in df1['project'].values:\n",
    "    print(i,\"Mailing List\")\n",
    "    SQL = s.sql.text(\"\"\"SELECT * \n",
    "    FROM mail_lists WHERE mailing_list = \"\"\" +  \"'\" + i + \"'\")\n",
    "    df2 = pd.read_sql(SQL, connect.db)\n",
    "    df_list = df_list.append(df2)\n",
    "    #print(df2)\n",
    "    grouped = df2.groupby('message_id').groups\n",
    "    print(\"Here!!!!\")\n",
    "    #print(\"\\n\\n\",\"-\"*70,\"\\n\\n\")\n",
    "    for group in grouped:\n",
    "        parts = 0\n",
    "        numb = len(df2.loc[df2['message_id'] == group]['message_parts_tot'].tolist())\n",
    "        message = (df2.loc[df2['message_id'] == group]['message_text']).tolist()\n",
    "        message_text = ''.join(message)\n",
    "        #print(message_text)\n",
    "        score=sentiment_analyzer.get_sentiment_polarity(message_text)\n",
    "        score = int(score[0])\n",
    "        compound = parts = 0\n",
    "        sentiment = \"Positive\"\n",
    "        if(score == -1):\n",
    "            sentiment = \"Negative\"\n",
    "        #print(message)\n",
    "        for i in range(numb):\n",
    "            li = [ [score, sentiment] ]\n",
    "            df_temp = pd.DataFrame(li,columns = col)\n",
    "            #print(df_temp['score'])\n",
    "            df3 = df3.append(df_temp)\n",
    "            #print(df3)\n",
    "    print(\"\\n\\n\")"
   ]
  },
  {
   "cell_type": "code",
   "execution_count": 22,
   "metadata": {},
   "outputs": [
    {
     "name": "stdout",
     "output_type": "stream",
     "text": [
      "  augurmsgID backend_name                                        project  \\\n",
      "0          1    Pipermail  https://lists.gluster.org/pipermail/announce/   \n",
      "1          2    Pipermail  https://lists.gluster.org/pipermail/announce/   \n",
      "2          3    Pipermail  https://lists.gluster.org/pipermail/announce/   \n",
      "3          4    Pipermail  https://lists.gluster.org/pipermail/announce/   \n",
      "4          5    Pipermail  https://lists.gluster.org/pipermail/announce/   \n",
      "\n",
      "  mailing_list category message_part message_parts_tot  \\\n",
      "0     announce  message            1                 2   \n",
      "1     announce  message            2                 2   \n",
      "2     announce  message            1                 2   \n",
      "3     announce  message            2                 2   \n",
      "4     announce  message            1                 2   \n",
      "\n",
      "                                            subject                date  \\\n",
      "0  Announcing: Gluster Community Day @ Rackspace SF 2013-08-13 20:36:24   \n",
      "1  Announcing: Gluster Community Day @ Rackspace SF 2013-08-13 20:36:24   \n",
      "2  Announcing: Gluster Community Day @ Rackspace SF 2013-08-13 20:40:12   \n",
      "3  Announcing: Gluster Community Day @ Rackspace SF 2013-08-13 20:40:12   \n",
      "4  Announcing: Gluster Community Day @ Rackspace SF 2013-08-13 20:39:42   \n",
      "\n",
      "                                 message_from  \\\n",
      "0  johnmark at gluster.org (John Mark Walker)   \n",
      "1  johnmark at gluster.org (John Mark Walker)   \n",
      "2  johnmark at gluster.org (John Mark Walker)   \n",
      "3  johnmark at gluster.org (John Mark Walker)   \n",
      "4   jowalker at redhat.com (John Mark Walker)   \n",
      "\n",
      "                                          message_id  \\\n",
      "0  <794331645.2517084.1376426184429.JavaMail.root...   \n",
      "1  <794331645.2517084.1376426184429.JavaMail.root...   \n",
      "2  <598321579.2519535.1376426412399.JavaMail.root...   \n",
      "3  <598321579.2519535.1376426412399.JavaMail.root...   \n",
      "4  <1853241898.2519280.1376426382193.JavaMail.roo...   \n",
      "\n",
      "                                        message_text score sentiment  \n",
      "0  NOTE: Interested in speaking? Contact me off-l...     0  Positive  \n",
      "1  t Community Day! This day will feature in-dept...     0  Positive  \n",
      "2  Sorry - this is for Tuesday, August 27.\\n\\nSee...     0  Positive  \n",
      "3  rFS-Silicon-Valley/events/124722542/\\n\\n-JM\\n\\...     0  Positive  \n",
      "4  Sorry - this is for Tuesday, August 27.\\n\\nSee...     0  Positive  \n",
      "(392, 14)\n"
     ]
    }
   ],
   "source": [
    "df3 = df3.reset_index(drop=True)\n",
    "df_list = df_list.reset_index(drop=True)\n",
    "combine = (df_list.join(df3))\n",
    "\n",
    "print(combine.head())\n",
    "print(combine.shape)\n",
    "combine.to_sql(name='mail_lists_sentiment_scores_senticr',con=connect.db,\\\n",
    "               if_exists='replace',index=False)"
   ]
  },
  {
   "cell_type": "code",
   "execution_count": 23,
   "metadata": {},
   "outputs": [
    {
     "name": "stdout",
     "output_type": "stream",
     "text": [
      "(392,)\n",
      "(392,)\n"
     ]
    },
    {
     "data": {
      "image/png": "[encoded data removed]",
      "text/plain": [
       "<Figure size 432x288 with 1 Axes>"
      ]
     },
     "metadata": {},
     "output_type": "display_data"
    }
   ],
   "source": [
    "grouped = combine.groupby('mailing_list').groups\n",
    "dates = []\n",
    "mail_list = None\n",
    "j = 0\n",
    "for group in grouped:\n",
    "    dates = (combine.loc[combine['mailing_list'] == group]['date']).tolist()\n",
    "    values = []\n",
    "    for val in dates:\n",
    "        #print(val)\n",
    "        values.append((combine.loc[combine['date'] == val]['score']).tolist()[0])\n",
    "    #values = (combine.loc[combine['mailing_list'] == group]['score']).unique().tolist()\n",
    "    x = np.array(dates)\n",
    "    #dates = np.unique(x)\n",
    "    #print(dates)\n",
    "    dates1 = [r.to_pydatetime() for r in x]\n",
    "    fin_dates = mdates.date2num(dates1)\n",
    "    fin_values = np.asarray(values)\n",
    "    print(fin_dates.shape)\n",
    "    print(fin_values.shape)\n",
    "    plot.plot_date(fin_dates, fin_values)\n",
    "    #plot.plot(fin_dates,fin_values)\n",
    "    plot.gcf().autofmt_xdate()\n",
    "    plot.title(\"Mailing lst: \"+ group)\n",
    "    plot.ylabel('Score')\n",
    "    plot.xlabel('Date')\n",
    "    #print(fin_dates)\n",
    "    slope, intercept, r_value, p_value, std_err = stats.linregress(fin_dates,fin_values)\n",
    "    line = slope*fin_dates+intercept\n",
    "    plot.plot(fin_dates,fin_values,'o', fin_dates, line)\n",
    "    #plot.savefig('foo' + str(x) + '.png')\n",
    "    #x+=1\n",
    "    plot.show()"
   ]
  },
  {
   "cell_type": "code",
   "execution_count": null,
   "metadata": {},
   "outputs": [],
   "source": []
  }
 ],
 "metadata": {
  "kernelspec": {
   "display_name": "Python (augur)",
   "language": "python",
   "name": "augur"
  },
  "language_info": {
   "codemirror_mode": {
    "name": "ipython",
    "version": 3
   },
   "file_extension": ".py",
   "mimetype": "text/x-python",
   "name": "python",
   "nbconvert_exporter": "python",
   "pygments_lexer": "ipython3",
   "version": "3.6.5"
  }
 },
 "nbformat": 4,
 "nbformat_minor": 2
}
